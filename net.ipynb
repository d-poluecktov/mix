{
 "cells": [
  {
   "cell_type": "code",
   "execution_count": 243,
   "metadata": {
    "collapsed": true
   },
   "outputs": [],
   "source": [
    "import pandas as pd\n",
    "from sklearn.preprocessing import MinMaxScaler\n",
    "import torch\n",
    "import torch.nn as nn\n",
    "from sklearn.model_selection import train_test_split\n",
    "import matplotlib.pyplot as plt\n",
    "import plotly.express as px\n",
    "import plotly.graph_objects as go"
   ]
  },
  {
   "cell_type": "code",
   "execution_count": 244,
   "outputs": [
    {
     "data": {
      "text/plain": "     М.ч. оксида цинка  М.ч. стеариновой кислоты  М.ч. бентонита  \\\n0                 1.16                      0.96            1.64   \n1                 1.20                      1.80            2.00   \n2                 1.16                      0.96            1.64   \n3                 1.18                      1.18            1.65   \n4                 1.18                      1.18            1.65   \n..                 ...                       ...             ...   \n494               0.99                      1.72            1.29   \n495               1.32                      1.00            1.68   \n496               1.32                      1.00            1.68   \n497               1.32                      1.00            1.68   \n498               1.32                      1.00            1.68   \n\n     М.ч. жирных кислот  Температура смешения, оС  М300, Мпа  Fразрыв, МПа  \\\n0                  0.24                        65  11.600000     22.900000   \n1                  0.00                       120  16.100000     23.300000   \n2                  0.24                       120  12.900000     21.300000   \n3                  0.00                       120  12.400000     21.500000   \n4                  0.00                        65  11.800000     22.000000   \n..                  ...                       ...        ...           ...   \n494                0.00                       110  10.160000     21.400000   \n495                0.00                       110  14.242894     23.322207   \n496                0.00                       110  12.281242     22.683855   \n497                0.00                       110  13.148111     22.211282   \n498                0.00                       110  13.515012     21.722941   \n\n           Е, %  \n0    557.000000  \n1    413.000000  \n2    457.000000  \n3    500.000000  \n4    483.000000  \n..          ...  \n494  531.670000  \n495  446.666667  \n496  463.333333  \n497  443.333333  \n498  436.666667  \n\n[499 rows x 8 columns]",
      "text/html": "<div>\n<style scoped>\n    .dataframe tbody tr th:only-of-type {\n        vertical-align: middle;\n    }\n\n    .dataframe tbody tr th {\n        vertical-align: top;\n    }\n\n    .dataframe thead th {\n        text-align: right;\n    }\n</style>\n<table border=\"1\" class=\"dataframe\">\n  <thead>\n    <tr style=\"text-align: right;\">\n      <th></th>\n      <th>М.ч. оксида цинка</th>\n      <th>М.ч. стеариновой кислоты</th>\n      <th>М.ч. бентонита</th>\n      <th>М.ч. жирных кислот</th>\n      <th>Температура смешения, оС</th>\n      <th>М300, Мпа</th>\n      <th>Fразрыв, МПа</th>\n      <th>Е, %</th>\n    </tr>\n  </thead>\n  <tbody>\n    <tr>\n      <th>0</th>\n      <td>1.16</td>\n      <td>0.96</td>\n      <td>1.64</td>\n      <td>0.24</td>\n      <td>65</td>\n      <td>11.600000</td>\n      <td>22.900000</td>\n      <td>557.000000</td>\n    </tr>\n    <tr>\n      <th>1</th>\n      <td>1.20</td>\n      <td>1.80</td>\n      <td>2.00</td>\n      <td>0.00</td>\n      <td>120</td>\n      <td>16.100000</td>\n      <td>23.300000</td>\n      <td>413.000000</td>\n    </tr>\n    <tr>\n      <th>2</th>\n      <td>1.16</td>\n      <td>0.96</td>\n      <td>1.64</td>\n      <td>0.24</td>\n      <td>120</td>\n      <td>12.900000</td>\n      <td>21.300000</td>\n      <td>457.000000</td>\n    </tr>\n    <tr>\n      <th>3</th>\n      <td>1.18</td>\n      <td>1.18</td>\n      <td>1.65</td>\n      <td>0.00</td>\n      <td>120</td>\n      <td>12.400000</td>\n      <td>21.500000</td>\n      <td>500.000000</td>\n    </tr>\n    <tr>\n      <th>4</th>\n      <td>1.18</td>\n      <td>1.18</td>\n      <td>1.65</td>\n      <td>0.00</td>\n      <td>65</td>\n      <td>11.800000</td>\n      <td>22.000000</td>\n      <td>483.000000</td>\n    </tr>\n    <tr>\n      <th>...</th>\n      <td>...</td>\n      <td>...</td>\n      <td>...</td>\n      <td>...</td>\n      <td>...</td>\n      <td>...</td>\n      <td>...</td>\n      <td>...</td>\n    </tr>\n    <tr>\n      <th>494</th>\n      <td>0.99</td>\n      <td>1.72</td>\n      <td>1.29</td>\n      <td>0.00</td>\n      <td>110</td>\n      <td>10.160000</td>\n      <td>21.400000</td>\n      <td>531.670000</td>\n    </tr>\n    <tr>\n      <th>495</th>\n      <td>1.32</td>\n      <td>1.00</td>\n      <td>1.68</td>\n      <td>0.00</td>\n      <td>110</td>\n      <td>14.242894</td>\n      <td>23.322207</td>\n      <td>446.666667</td>\n    </tr>\n    <tr>\n      <th>496</th>\n      <td>1.32</td>\n      <td>1.00</td>\n      <td>1.68</td>\n      <td>0.00</td>\n      <td>110</td>\n      <td>12.281242</td>\n      <td>22.683855</td>\n      <td>463.333333</td>\n    </tr>\n    <tr>\n      <th>497</th>\n      <td>1.32</td>\n      <td>1.00</td>\n      <td>1.68</td>\n      <td>0.00</td>\n      <td>110</td>\n      <td>13.148111</td>\n      <td>22.211282</td>\n      <td>443.333333</td>\n    </tr>\n    <tr>\n      <th>498</th>\n      <td>1.32</td>\n      <td>1.00</td>\n      <td>1.68</td>\n      <td>0.00</td>\n      <td>110</td>\n      <td>13.515012</td>\n      <td>21.722941</td>\n      <td>436.666667</td>\n    </tr>\n  </tbody>\n</table>\n<p>499 rows × 8 columns</p>\n</div>"
     },
     "execution_count": 244,
     "metadata": {},
     "output_type": "execute_result"
    }
   ],
   "source": [
    "df = pd.read_excel(\"D:\\\\PytnonProject\\\\mix.ver2\\\\data.xlsx\")\n",
    "df = df.drop(['Unnamed: 0'], axis=1)\n",
    "df = df.drop(['Загрузка смесителя, кг', 'Скорость смесителя, об/мин'], axis=1)\n",
    "df"
   ],
   "metadata": {
    "collapsed": false
   }
  },
  {
   "cell_type": "code",
   "execution_count": 245,
   "outputs": [],
   "source": [
    "scaler = MinMaxScaler()\n",
    "scale_df = pd.DataFrame()\n",
    "scale_df[['М.ч. оксида цинка', 'М.ч. стеариновой кислоты', 'М.ч. бентонита', 'М.ч. жирных кислот', 'Температура смешения, оС', 'М300, Мпа', 'Fразрыв, МПа', 'Е, %']] = scaler.fit_transform(df)\n",
    "\n",
    "X = scale_df[['М.ч. оксида цинка', 'М.ч. стеариновой кислоты', 'М.ч. бентонита', 'М.ч. жирных кислот', 'Температура смешения, оС']]\n",
    "Y = scale_df[['М300, Мпа', 'Fразрыв, МПа', 'Е, %']]"
   ],
   "metadata": {
    "collapsed": false
   }
  },
  {
   "cell_type": "code",
   "execution_count": 246,
   "outputs": [],
   "source": [
    "X_train, X_test, Y_train, Y_test = train_test_split(X, Y, test_size=0.2)\n",
    "X_train = torch.Tensor(X_train.values)\n",
    "X_test = torch.Tensor(X_test.values)\n",
    "Y_train = torch.Tensor(Y_train.values)\n",
    "Y_test = torch.Tensor(Y_test.values)"
   ],
   "metadata": {
    "collapsed": false
   }
  },
  {
   "cell_type": "code",
   "execution_count": 247,
   "outputs": [],
   "source": [
    "class Net(torch.nn.Module):\n",
    "    def __init__(self):\n",
    "        super(Net,self).__init__()\n",
    "        self.fc1 = torch.nn.Linear(5, 12)\n",
    "        self.act1 = torch.nn.ReLU()\n",
    "        self.fc2 = torch.nn.Linear(12, 6)\n",
    "        self.act2 = torch.nn.ReLU()\n",
    "        self.fc3 = torch.nn.Linear(6, 3)\n",
    "\n",
    "    def forward(self, x):\n",
    "        x = self.fc1(x)\n",
    "        x = self.act1(x)\n",
    "        x = self.fc2(x)\n",
    "        x = self.act2(x)\n",
    "        x = self.fc3(x)\n",
    "        return x"
   ],
   "metadata": {
    "collapsed": false
   }
  },
  {
   "cell_type": "code",
   "execution_count": 248,
   "outputs": [],
   "source": [
    "net = Net()"
   ],
   "metadata": {
    "collapsed": false
   }
  },
  {
   "cell_type": "code",
   "execution_count": 249,
   "outputs": [],
   "source": [
    "optimizer = torch.optim.Adam(net.parameters(), lr=0.01)\n",
    "criterion = nn.MSELoss()\n",
    "criterion_valid = nn.MSELoss()\n",
    "history = []\n",
    "history_valid = []"
   ],
   "metadata": {
    "collapsed": false
   }
  },
  {
   "cell_type": "code",
   "execution_count": 250,
   "outputs": [],
   "source": [
    "def predict(net, x, y):\n",
    "    y_pred = net.forward(x)\n",
    "    loss = criterion(y_pred, y)\n",
    "    return y_pred, loss"
   ],
   "metadata": {
    "collapsed": false
   }
  },
  {
   "cell_type": "code",
   "execution_count": 251,
   "outputs": [],
   "source": [
    "def find_loss(net, x, y):\n",
    "    Loss = []\n",
    "    for i in range(x.shape[0]):\n",
    "        y_pred = net.forward(x[i])\n",
    "        MSELoss = criterion(y_pred, y[0])\n",
    "        Loss.append(MSELoss.detach().numpy())\n",
    "    return Loss"
   ],
   "metadata": {
    "collapsed": false
   }
  },
  {
   "cell_type": "code",
   "execution_count": 252,
   "outputs": [],
   "source": [
    "def find_loss(net, x, y):\n",
    "    Loss = []\n",
    "    for i in range(x.shape[0]):\n",
    "        y_pred = net.forward(x[i])\n",
    "        MSELoss = criterion(y_pred, y[0])\n",
    "        Loss.append(MSELoss.detach().numpy())\n",
    "    return Loss"
   ],
   "metadata": {
    "collapsed": false
   }
  },
  {
   "cell_type": "code",
   "execution_count": 253,
   "outputs": [
    {
     "name": "stdout",
     "output_type": "stream",
     "text": [
      "tensor(0.3012, grad_fn=<MseLossBackward0>)\n",
      "tensor(0.2469, grad_fn=<MseLossBackward0>)\n",
      "tensor(0.1976, grad_fn=<MseLossBackward0>)\n",
      "tensor(0.1531, grad_fn=<MseLossBackward0>)\n",
      "tensor(0.1141, grad_fn=<MseLossBackward0>)\n",
      "tensor(0.0816, grad_fn=<MseLossBackward0>)\n",
      "tensor(0.0563, grad_fn=<MseLossBackward0>)\n",
      "tensor(0.0386, grad_fn=<MseLossBackward0>)\n",
      "tensor(0.0293, grad_fn=<MseLossBackward0>)\n",
      "tensor(0.0278, grad_fn=<MseLossBackward0>)\n",
      "tensor(0.0319, grad_fn=<MseLossBackward0>)\n",
      "tensor(0.0379, grad_fn=<MseLossBackward0>)\n",
      "tensor(0.0432, grad_fn=<MseLossBackward0>)\n",
      "tensor(0.0462, grad_fn=<MseLossBackward0>)\n",
      "tensor(0.0463, grad_fn=<MseLossBackward0>)\n",
      "tensor(0.0438, grad_fn=<MseLossBackward0>)\n",
      "tensor(0.0398, grad_fn=<MseLossBackward0>)\n",
      "tensor(0.0350, grad_fn=<MseLossBackward0>)\n",
      "tensor(0.0304, grad_fn=<MseLossBackward0>)\n",
      "tensor(0.0266, grad_fn=<MseLossBackward0>)\n",
      "tensor(0.0239, grad_fn=<MseLossBackward0>)\n",
      "tensor(0.0224, grad_fn=<MseLossBackward0>)\n",
      "tensor(0.0219, grad_fn=<MseLossBackward0>)\n",
      "tensor(0.0223, grad_fn=<MseLossBackward0>)\n",
      "tensor(0.0231, grad_fn=<MseLossBackward0>)\n",
      "tensor(0.0241, grad_fn=<MseLossBackward0>)\n",
      "tensor(0.0251, grad_fn=<MseLossBackward0>)\n",
      "tensor(0.0260, grad_fn=<MseLossBackward0>)\n",
      "tensor(0.0265, grad_fn=<MseLossBackward0>)\n",
      "tensor(0.0266, grad_fn=<MseLossBackward0>)\n",
      "tensor(0.0264, grad_fn=<MseLossBackward0>)\n",
      "tensor(0.0259, grad_fn=<MseLossBackward0>)\n",
      "tensor(0.0252, grad_fn=<MseLossBackward0>)\n",
      "tensor(0.0244, grad_fn=<MseLossBackward0>)\n",
      "tensor(0.0236, grad_fn=<MseLossBackward0>)\n",
      "tensor(0.0229, grad_fn=<MseLossBackward0>)\n",
      "tensor(0.0223, grad_fn=<MseLossBackward0>)\n",
      "tensor(0.0219, grad_fn=<MseLossBackward0>)\n",
      "tensor(0.0217, grad_fn=<MseLossBackward0>)\n",
      "tensor(0.0216, grad_fn=<MseLossBackward0>)\n",
      "tensor(0.0218, grad_fn=<MseLossBackward0>)\n",
      "tensor(0.0219, grad_fn=<MseLossBackward0>)\n",
      "tensor(0.0221, grad_fn=<MseLossBackward0>)\n",
      "tensor(0.0223, grad_fn=<MseLossBackward0>)\n",
      "tensor(0.0224, grad_fn=<MseLossBackward0>)\n",
      "tensor(0.0223, grad_fn=<MseLossBackward0>)\n",
      "tensor(0.0222, grad_fn=<MseLossBackward0>)\n",
      "tensor(0.0220, grad_fn=<MseLossBackward0>)\n",
      "tensor(0.0218, grad_fn=<MseLossBackward0>)\n",
      "tensor(0.0216, grad_fn=<MseLossBackward0>)\n",
      "tensor(0.0215, grad_fn=<MseLossBackward0>)\n",
      "tensor(0.0214, grad_fn=<MseLossBackward0>)\n",
      "tensor(0.0213, grad_fn=<MseLossBackward0>)\n",
      "tensor(0.0213, grad_fn=<MseLossBackward0>)\n",
      "tensor(0.0214, grad_fn=<MseLossBackward0>)\n",
      "tensor(0.0214, grad_fn=<MseLossBackward0>)\n",
      "tensor(0.0215, grad_fn=<MseLossBackward0>)\n",
      "tensor(0.0215, grad_fn=<MseLossBackward0>)\n",
      "tensor(0.0215, grad_fn=<MseLossBackward0>)\n",
      "tensor(0.0215, grad_fn=<MseLossBackward0>)\n",
      "tensor(0.0215, grad_fn=<MseLossBackward0>)\n",
      "tensor(0.0214, grad_fn=<MseLossBackward0>)\n",
      "tensor(0.0213, grad_fn=<MseLossBackward0>)\n",
      "tensor(0.0213, grad_fn=<MseLossBackward0>)\n",
      "tensor(0.0212, grad_fn=<MseLossBackward0>)\n",
      "tensor(0.0212, grad_fn=<MseLossBackward0>)\n",
      "tensor(0.0212, grad_fn=<MseLossBackward0>)\n",
      "tensor(0.0212, grad_fn=<MseLossBackward0>)\n",
      "tensor(0.0212, grad_fn=<MseLossBackward0>)\n",
      "tensor(0.0212, grad_fn=<MseLossBackward0>)\n",
      "tensor(0.0212, grad_fn=<MseLossBackward0>)\n",
      "tensor(0.0212, grad_fn=<MseLossBackward0>)\n",
      "tensor(0.0212, grad_fn=<MseLossBackward0>)\n",
      "tensor(0.0212, grad_fn=<MseLossBackward0>)\n",
      "tensor(0.0212, grad_fn=<MseLossBackward0>)\n",
      "tensor(0.0212, grad_fn=<MseLossBackward0>)\n",
      "tensor(0.0212, grad_fn=<MseLossBackward0>)\n",
      "tensor(0.0211, grad_fn=<MseLossBackward0>)\n",
      "tensor(0.0211, grad_fn=<MseLossBackward0>)\n",
      "tensor(0.0211, grad_fn=<MseLossBackward0>)\n",
      "tensor(0.0211, grad_fn=<MseLossBackward0>)\n",
      "tensor(0.0211, grad_fn=<MseLossBackward0>)\n",
      "tensor(0.0211, grad_fn=<MseLossBackward0>)\n",
      "tensor(0.0211, grad_fn=<MseLossBackward0>)\n",
      "tensor(0.0211, grad_fn=<MseLossBackward0>)\n",
      "tensor(0.0211, grad_fn=<MseLossBackward0>)\n",
      "tensor(0.0211, grad_fn=<MseLossBackward0>)\n",
      "tensor(0.0211, grad_fn=<MseLossBackward0>)\n",
      "tensor(0.0211, grad_fn=<MseLossBackward0>)\n",
      "tensor(0.0211, grad_fn=<MseLossBackward0>)\n",
      "tensor(0.0211, grad_fn=<MseLossBackward0>)\n",
      "tensor(0.0211, grad_fn=<MseLossBackward0>)\n",
      "tensor(0.0211, grad_fn=<MseLossBackward0>)\n",
      "tensor(0.0211, grad_fn=<MseLossBackward0>)\n",
      "tensor(0.0211, grad_fn=<MseLossBackward0>)\n",
      "tensor(0.0211, grad_fn=<MseLossBackward0>)\n",
      "tensor(0.0211, grad_fn=<MseLossBackward0>)\n",
      "tensor(0.0211, grad_fn=<MseLossBackward0>)\n",
      "tensor(0.0210, grad_fn=<MseLossBackward0>)\n",
      "tensor(0.0210, grad_fn=<MseLossBackward0>)\n"
     ]
    }
   ],
   "source": [
    "for epoch in range(100):\n",
    "\n",
    "    optimizer.zero_grad()\n",
    "    Y_predicted = net.forward(X_train)\n",
    "    loss = criterion(Y_predicted, Y_train)\n",
    "    print(loss)\n",
    "    loss.backward()\n",
    "    optimizer.step()\n",
    "    history.append(loss.item())\n",
    "\n",
    "    Y_valid = net.forward(X_test)\n",
    "    loss_valid = criterion_valid(Y_valid, Y_test)\n",
    "    loss_valid.backward()\n",
    "    history_valid.append(loss_valid.item())\n",
    "\n",
    "\n",
    "\n"
   ],
   "metadata": {
    "collapsed": false
   }
  },
  {
   "cell_type": "code",
   "execution_count": 254,
   "outputs": [
    {
     "data": {
      "application/vnd.plotly.v1+json": {
       "data": [
        {
         "hovertemplate": "variable=history<br>index=%{x}<br>value=%{y}<extra></extra>",
         "legendgroup": "history",
         "line": {
          "color": "red",
          "dash": "solid"
         },
         "marker": {
          "symbol": "circle"
         },
         "mode": "lines",
         "name": "history",
         "orientation": "v",
         "showlegend": true,
         "x": [
          0,
          1,
          2,
          3,
          4,
          5,
          6,
          7,
          8,
          9,
          10,
          11,
          12,
          13,
          14,
          15,
          16,
          17,
          18,
          19,
          20,
          21,
          22,
          23,
          24,
          25,
          26,
          27,
          28,
          29,
          30,
          31,
          32,
          33,
          34,
          35,
          36,
          37,
          38,
          39,
          40,
          41,
          42,
          43,
          44,
          45,
          46,
          47,
          48,
          49,
          50,
          51,
          52,
          53,
          54,
          55,
          56,
          57,
          58,
          59,
          60,
          61,
          62,
          63,
          64,
          65,
          66,
          67,
          68,
          69,
          70,
          71,
          72,
          73,
          74,
          75,
          76,
          77,
          78,
          79,
          80,
          81,
          82,
          83,
          84,
          85,
          86,
          87,
          88,
          89,
          90,
          91,
          92,
          93,
          94,
          95,
          96,
          97,
          98,
          99
         ],
         "xaxis": "x",
         "y": [
          0.3012344539165497,
          0.24686956405639648,
          0.19762219488620758,
          0.15309055149555206,
          0.11412134021520615,
          0.08162689208984375,
          0.056265536695718765,
          0.038637675344944,
          0.029280290007591248,
          0.027800818905234337,
          0.03186165541410446,
          0.0378977507352829,
          0.04323247820138931,
          0.0461944080889225,
          0.04626794904470444,
          0.043834585696458817,
          0.039753030985593796,
          0.03499772772192955,
          0.03041958063840866,
          0.026622936129570007,
          0.023929551243782043,
          0.02240709587931633,
          0.021929532289505005,
          0.02225131168961525,
          0.023078085854649544,
          0.024122560396790504,
          0.025141965597867966,
          0.025957366451621056,
          0.026459520682692528,
          0.026605354622006416,
          0.0264076367020607,
          0.025920147076249123,
          0.025223970413208008,
          0.024415606632828712,
          0.02359473705291748,
          0.02285270392894745,
          0.022259915247559547,
          0.021858880296349525,
          0.021660035476088524,
          0.021642405539751053,
          0.0217592790722847,
          0.021948350593447685,
          0.022144444286823273,
          0.022292139008641243,
          0.02235531248152256,
          0.022321686148643494,
          0.022201627492904663,
          0.02202221006155014,
          0.021818703040480614,
          0.02162577211856842,
          0.021470515057444572,
          0.021368419751524925,
          0.02132248319685459,
          0.021324988454580307,
          0.021360965445637703,
          0.021412331610918045,
          0.02146170288324356,
          0.021495571359992027,
          0.02150588296353817,
          0.021490583196282387,
          0.021452974528074265,
          0.021400248631834984,
          0.021341534331440926,
          0.02128589153289795,
          0.021240584552288055,
          0.02120991051197052,
          0.021194763481616974,
          0.021192902699112892,
          0.021199865266680717,
          0.02121022529900074,
          0.02121887542307377,
          0.021222088485956192,
          0.021218106150627136,
          0.02120719477534294,
          0.02119123563170433,
          0.02117301896214485,
          0.021155431866645813,
          0.021140772849321365,
          0.021130317822098732,
          0.021124210208654404,
          0.021121611818671227,
          0.021121101453900337,
          0.021121056750416756,
          0.021120088174939156,
          0.02111729048192501,
          0.02111240290105343,
          0.02110571786761284,
          0.021097945049405098,
          0.021089963614940643,
          0.021082570776343346,
          0.021076342090964317,
          0.02107149176299572,
          0.02106790617108345,
          0.021065182983875275,
          0.021062800660729408,
          0.02106027491390705,
          0.02105727791786194,
          0.02105364017188549,
          0.02104943059384823,
          0.021044829860329628
         ],
         "yaxis": "y",
         "type": "scatter"
        },
        {
         "hovertemplate": "variable=history_valid<br>index=%{x}<br>value=%{y}<extra></extra>",
         "legendgroup": "history_valid",
         "line": {
          "color": "green",
          "dash": "solid"
         },
         "marker": {
          "symbol": "circle"
         },
         "mode": "lines",
         "name": "history_valid",
         "orientation": "v",
         "showlegend": true,
         "x": [
          0,
          1,
          2,
          3,
          4,
          5,
          6,
          7,
          8,
          9,
          10,
          11,
          12,
          13,
          14,
          15,
          16,
          17,
          18,
          19,
          20,
          21,
          22,
          23,
          24,
          25,
          26,
          27,
          28,
          29,
          30,
          31,
          32,
          33,
          34,
          35,
          36,
          37,
          38,
          39,
          40,
          41,
          42,
          43,
          44,
          45,
          46,
          47,
          48,
          49,
          50,
          51,
          52,
          53,
          54,
          55,
          56,
          57,
          58,
          59,
          60,
          61,
          62,
          63,
          64,
          65,
          66,
          67,
          68,
          69,
          70,
          71,
          72,
          73,
          74,
          75,
          76,
          77,
          78,
          79,
          80,
          81,
          82,
          83,
          84,
          85,
          86,
          87,
          88,
          89,
          90,
          91,
          92,
          93,
          94,
          95,
          96,
          97,
          98,
          99
         ],
         "xaxis": "x",
         "y": [
          0.24888089299201965,
          0.2001139372587204,
          0.15601490437984467,
          0.11739137023687363,
          0.0851300060749054,
          0.0599072091281414,
          0.04227566346526146,
          0.03275912255048752,
          0.030954396352171898,
          0.03465551510453224,
          0.04037648066878319,
          0.04545030742883682,
          0.04822099208831787,
          0.048185303807258606,
          0.04572119563817978,
          0.04166467487812042,
          0.036966972053050995,
          0.032458141446113586,
          0.028726870194077492,
          0.026086172088980675,
          0.024599682539701462,
          0.02414151094853878,
          0.024468902498483658,
          0.025291360914707184,
          0.026325637474656105,
          0.0273324865847826,
          0.02813577651977539,
          0.0286282766610384,
          0.028766987845301628,
          0.028564946725964546,
          0.02807554230093956,
          0.027379008010029793,
          0.026571124792099,
          0.025750819593667984,
          0.025008367374539375,
          0.024413762614130974,
          0.024009503424167633,
          0.023806478828191757,
          0.023784572258591652,
          0.02389822155237198,
          0.024086343124508858,
          0.024284852668642998,
          0.024439023807644844,
          0.024512937292456627,
          0.024493958801031113,
          0.024391598999500275,
          0.024231746792793274,
          0.024048341438174248,
          0.023874768987298012,
          0.023737052455544472,
          0.02364988811314106,
          0.023615799844264984,
          0.023626895621418953,
          0.023668276146054268,
          0.023722056299448013,
          0.02377120405435562,
          0.02380247600376606,
          0.02380811981856823,
          0.02378636971116066,
          0.023740757256746292,
          0.02367870695888996,
          0.02360955812036991,
          0.023542620241642,
          0.023485427722334862,
          0.023442592471837997,
          0.023415355011820793,
          0.023401841521263123,
          0.023397935554385185,
          0.023398512974381447,
          0.02339869737625122,
          0.02339489758014679,
          0.023385390639305115,
          0.02337038144469261,
          0.023351619020104408,
          0.02333168126642704,
          0.023313235491514206,
          0.023298336192965508,
          0.023288046941161156,
          0.023282313719391823,
          0.023280156776309013,
          0.02328001707792282,
          0.023280182853341103,
          0.023279210552573204,
          0.023276152089238167,
          0.02327072061598301,
          0.02326320670545101,
          0.02325432375073433,
          0.023244967684149742,
          0.0232359878718853,
          0.023227982223033905,
          0.023221207782626152,
          0.023215586319565773,
          0.023210769519209862,
          0.023206278681755066,
          0.023201625794172287,
          0.023196469992399216,
          0.02319067344069481,
          0.023184282705187798,
          0.023177487775683403,
          0.02317054383456707
         ],
         "yaxis": "y",
         "type": "scatter"
        }
       ],
       "layout": {
        "template": {
         "data": {
          "histogram2dcontour": [
           {
            "type": "histogram2dcontour",
            "colorbar": {
             "outlinewidth": 0,
             "ticks": ""
            },
            "colorscale": [
             [
              0.0,
              "#0d0887"
             ],
             [
              0.1111111111111111,
              "#46039f"
             ],
             [
              0.2222222222222222,
              "#7201a8"
             ],
             [
              0.3333333333333333,
              "#9c179e"
             ],
             [
              0.4444444444444444,
              "#bd3786"
             ],
             [
              0.5555555555555556,
              "#d8576b"
             ],
             [
              0.6666666666666666,
              "#ed7953"
             ],
             [
              0.7777777777777778,
              "#fb9f3a"
             ],
             [
              0.8888888888888888,
              "#fdca26"
             ],
             [
              1.0,
              "#f0f921"
             ]
            ]
           }
          ],
          "choropleth": [
           {
            "type": "choropleth",
            "colorbar": {
             "outlinewidth": 0,
             "ticks": ""
            }
           }
          ],
          "histogram2d": [
           {
            "type": "histogram2d",
            "colorbar": {
             "outlinewidth": 0,
             "ticks": ""
            },
            "colorscale": [
             [
              0.0,
              "#0d0887"
             ],
             [
              0.1111111111111111,
              "#46039f"
             ],
             [
              0.2222222222222222,
              "#7201a8"
             ],
             [
              0.3333333333333333,
              "#9c179e"
             ],
             [
              0.4444444444444444,
              "#bd3786"
             ],
             [
              0.5555555555555556,
              "#d8576b"
             ],
             [
              0.6666666666666666,
              "#ed7953"
             ],
             [
              0.7777777777777778,
              "#fb9f3a"
             ],
             [
              0.8888888888888888,
              "#fdca26"
             ],
             [
              1.0,
              "#f0f921"
             ]
            ]
           }
          ],
          "heatmap": [
           {
            "type": "heatmap",
            "colorbar": {
             "outlinewidth": 0,
             "ticks": ""
            },
            "colorscale": [
             [
              0.0,
              "#0d0887"
             ],
             [
              0.1111111111111111,
              "#46039f"
             ],
             [
              0.2222222222222222,
              "#7201a8"
             ],
             [
              0.3333333333333333,
              "#9c179e"
             ],
             [
              0.4444444444444444,
              "#bd3786"
             ],
             [
              0.5555555555555556,
              "#d8576b"
             ],
             [
              0.6666666666666666,
              "#ed7953"
             ],
             [
              0.7777777777777778,
              "#fb9f3a"
             ],
             [
              0.8888888888888888,
              "#fdca26"
             ],
             [
              1.0,
              "#f0f921"
             ]
            ]
           }
          ],
          "heatmapgl": [
           {
            "type": "heatmapgl",
            "colorbar": {
             "outlinewidth": 0,
             "ticks": ""
            },
            "colorscale": [
             [
              0.0,
              "#0d0887"
             ],
             [
              0.1111111111111111,
              "#46039f"
             ],
             [
              0.2222222222222222,
              "#7201a8"
             ],
             [
              0.3333333333333333,
              "#9c179e"
             ],
             [
              0.4444444444444444,
              "#bd3786"
             ],
             [
              0.5555555555555556,
              "#d8576b"
             ],
             [
              0.6666666666666666,
              "#ed7953"
             ],
             [
              0.7777777777777778,
              "#fb9f3a"
             ],
             [
              0.8888888888888888,
              "#fdca26"
             ],
             [
              1.0,
              "#f0f921"
             ]
            ]
           }
          ],
          "contourcarpet": [
           {
            "type": "contourcarpet",
            "colorbar": {
             "outlinewidth": 0,
             "ticks": ""
            }
           }
          ],
          "contour": [
           {
            "type": "contour",
            "colorbar": {
             "outlinewidth": 0,
             "ticks": ""
            },
            "colorscale": [
             [
              0.0,
              "#0d0887"
             ],
             [
              0.1111111111111111,
              "#46039f"
             ],
             [
              0.2222222222222222,
              "#7201a8"
             ],
             [
              0.3333333333333333,
              "#9c179e"
             ],
             [
              0.4444444444444444,
              "#bd3786"
             ],
             [
              0.5555555555555556,
              "#d8576b"
             ],
             [
              0.6666666666666666,
              "#ed7953"
             ],
             [
              0.7777777777777778,
              "#fb9f3a"
             ],
             [
              0.8888888888888888,
              "#fdca26"
             ],
             [
              1.0,
              "#f0f921"
             ]
            ]
           }
          ],
          "surface": [
           {
            "type": "surface",
            "colorbar": {
             "outlinewidth": 0,
             "ticks": ""
            },
            "colorscale": [
             [
              0.0,
              "#0d0887"
             ],
             [
              0.1111111111111111,
              "#46039f"
             ],
             [
              0.2222222222222222,
              "#7201a8"
             ],
             [
              0.3333333333333333,
              "#9c179e"
             ],
             [
              0.4444444444444444,
              "#bd3786"
             ],
             [
              0.5555555555555556,
              "#d8576b"
             ],
             [
              0.6666666666666666,
              "#ed7953"
             ],
             [
              0.7777777777777778,
              "#fb9f3a"
             ],
             [
              0.8888888888888888,
              "#fdca26"
             ],
             [
              1.0,
              "#f0f921"
             ]
            ]
           }
          ],
          "mesh3d": [
           {
            "type": "mesh3d",
            "colorbar": {
             "outlinewidth": 0,
             "ticks": ""
            }
           }
          ],
          "scatter": [
           {
            "marker": {
             "line": {
              "color": "#283442"
             }
            },
            "type": "scatter"
           }
          ],
          "parcoords": [
           {
            "type": "parcoords",
            "line": {
             "colorbar": {
              "outlinewidth": 0,
              "ticks": ""
             }
            }
           }
          ],
          "scatterpolargl": [
           {
            "type": "scatterpolargl",
            "marker": {
             "colorbar": {
              "outlinewidth": 0,
              "ticks": ""
             }
            }
           }
          ],
          "bar": [
           {
            "error_x": {
             "color": "#f2f5fa"
            },
            "error_y": {
             "color": "#f2f5fa"
            },
            "marker": {
             "line": {
              "color": "rgb(17,17,17)",
              "width": 0.5
             },
             "pattern": {
              "fillmode": "overlay",
              "size": 10,
              "solidity": 0.2
             }
            },
            "type": "bar"
           }
          ],
          "scattergeo": [
           {
            "type": "scattergeo",
            "marker": {
             "colorbar": {
              "outlinewidth": 0,
              "ticks": ""
             }
            }
           }
          ],
          "scatterpolar": [
           {
            "type": "scatterpolar",
            "marker": {
             "colorbar": {
              "outlinewidth": 0,
              "ticks": ""
             }
            }
           }
          ],
          "histogram": [
           {
            "marker": {
             "pattern": {
              "fillmode": "overlay",
              "size": 10,
              "solidity": 0.2
             }
            },
            "type": "histogram"
           }
          ],
          "scattergl": [
           {
            "marker": {
             "line": {
              "color": "#283442"
             }
            },
            "type": "scattergl"
           }
          ],
          "scatter3d": [
           {
            "type": "scatter3d",
            "line": {
             "colorbar": {
              "outlinewidth": 0,
              "ticks": ""
             }
            },
            "marker": {
             "colorbar": {
              "outlinewidth": 0,
              "ticks": ""
             }
            }
           }
          ],
          "scattermapbox": [
           {
            "type": "scattermapbox",
            "marker": {
             "colorbar": {
              "outlinewidth": 0,
              "ticks": ""
             }
            }
           }
          ],
          "scatterternary": [
           {
            "type": "scatterternary",
            "marker": {
             "colorbar": {
              "outlinewidth": 0,
              "ticks": ""
             }
            }
           }
          ],
          "scattercarpet": [
           {
            "type": "scattercarpet",
            "marker": {
             "colorbar": {
              "outlinewidth": 0,
              "ticks": ""
             }
            }
           }
          ],
          "carpet": [
           {
            "aaxis": {
             "endlinecolor": "#A2B1C6",
             "gridcolor": "#506784",
             "linecolor": "#506784",
             "minorgridcolor": "#506784",
             "startlinecolor": "#A2B1C6"
            },
            "baxis": {
             "endlinecolor": "#A2B1C6",
             "gridcolor": "#506784",
             "linecolor": "#506784",
             "minorgridcolor": "#506784",
             "startlinecolor": "#A2B1C6"
            },
            "type": "carpet"
           }
          ],
          "table": [
           {
            "cells": {
             "fill": {
              "color": "#506784"
             },
             "line": {
              "color": "rgb(17,17,17)"
             }
            },
            "header": {
             "fill": {
              "color": "#2a3f5f"
             },
             "line": {
              "color": "rgb(17,17,17)"
             }
            },
            "type": "table"
           }
          ],
          "barpolar": [
           {
            "marker": {
             "line": {
              "color": "rgb(17,17,17)",
              "width": 0.5
             },
             "pattern": {
              "fillmode": "overlay",
              "size": 10,
              "solidity": 0.2
             }
            },
            "type": "barpolar"
           }
          ],
          "pie": [
           {
            "automargin": true,
            "type": "pie"
           }
          ]
         },
         "layout": {
          "autotypenumbers": "strict",
          "colorway": [
           "#636efa",
           "#EF553B",
           "#00cc96",
           "#ab63fa",
           "#FFA15A",
           "#19d3f3",
           "#FF6692",
           "#B6E880",
           "#FF97FF",
           "#FECB52"
          ],
          "font": {
           "color": "#f2f5fa"
          },
          "hovermode": "closest",
          "hoverlabel": {
           "align": "left"
          },
          "paper_bgcolor": "rgb(17,17,17)",
          "plot_bgcolor": "rgb(17,17,17)",
          "polar": {
           "bgcolor": "rgb(17,17,17)",
           "angularaxis": {
            "gridcolor": "#506784",
            "linecolor": "#506784",
            "ticks": ""
           },
           "radialaxis": {
            "gridcolor": "#506784",
            "linecolor": "#506784",
            "ticks": ""
           }
          },
          "ternary": {
           "bgcolor": "rgb(17,17,17)",
           "aaxis": {
            "gridcolor": "#506784",
            "linecolor": "#506784",
            "ticks": ""
           },
           "baxis": {
            "gridcolor": "#506784",
            "linecolor": "#506784",
            "ticks": ""
           },
           "caxis": {
            "gridcolor": "#506784",
            "linecolor": "#506784",
            "ticks": ""
           }
          },
          "coloraxis": {
           "colorbar": {
            "outlinewidth": 0,
            "ticks": ""
           }
          },
          "colorscale": {
           "sequential": [
            [
             0.0,
             "#0d0887"
            ],
            [
             0.1111111111111111,
             "#46039f"
            ],
            [
             0.2222222222222222,
             "#7201a8"
            ],
            [
             0.3333333333333333,
             "#9c179e"
            ],
            [
             0.4444444444444444,
             "#bd3786"
            ],
            [
             0.5555555555555556,
             "#d8576b"
            ],
            [
             0.6666666666666666,
             "#ed7953"
            ],
            [
             0.7777777777777778,
             "#fb9f3a"
            ],
            [
             0.8888888888888888,
             "#fdca26"
            ],
            [
             1.0,
             "#f0f921"
            ]
           ],
           "sequentialminus": [
            [
             0.0,
             "#0d0887"
            ],
            [
             0.1111111111111111,
             "#46039f"
            ],
            [
             0.2222222222222222,
             "#7201a8"
            ],
            [
             0.3333333333333333,
             "#9c179e"
            ],
            [
             0.4444444444444444,
             "#bd3786"
            ],
            [
             0.5555555555555556,
             "#d8576b"
            ],
            [
             0.6666666666666666,
             "#ed7953"
            ],
            [
             0.7777777777777778,
             "#fb9f3a"
            ],
            [
             0.8888888888888888,
             "#fdca26"
            ],
            [
             1.0,
             "#f0f921"
            ]
           ],
           "diverging": [
            [
             0,
             "#8e0152"
            ],
            [
             0.1,
             "#c51b7d"
            ],
            [
             0.2,
             "#de77ae"
            ],
            [
             0.3,
             "#f1b6da"
            ],
            [
             0.4,
             "#fde0ef"
            ],
            [
             0.5,
             "#f7f7f7"
            ],
            [
             0.6,
             "#e6f5d0"
            ],
            [
             0.7,
             "#b8e186"
            ],
            [
             0.8,
             "#7fbc41"
            ],
            [
             0.9,
             "#4d9221"
            ],
            [
             1,
             "#276419"
            ]
           ]
          },
          "xaxis": {
           "gridcolor": "#283442",
           "linecolor": "#506784",
           "ticks": "",
           "title": {
            "standoff": 15
           },
           "zerolinecolor": "#283442",
           "automargin": true,
           "zerolinewidth": 2
          },
          "yaxis": {
           "gridcolor": "#283442",
           "linecolor": "#506784",
           "ticks": "",
           "title": {
            "standoff": 15
           },
           "zerolinecolor": "#283442",
           "automargin": true,
           "zerolinewidth": 2
          },
          "scene": {
           "xaxis": {
            "backgroundcolor": "rgb(17,17,17)",
            "gridcolor": "#506784",
            "linecolor": "#506784",
            "showbackground": true,
            "ticks": "",
            "zerolinecolor": "#C8D4E3",
            "gridwidth": 2
           },
           "yaxis": {
            "backgroundcolor": "rgb(17,17,17)",
            "gridcolor": "#506784",
            "linecolor": "#506784",
            "showbackground": true,
            "ticks": "",
            "zerolinecolor": "#C8D4E3",
            "gridwidth": 2
           },
           "zaxis": {
            "backgroundcolor": "rgb(17,17,17)",
            "gridcolor": "#506784",
            "linecolor": "#506784",
            "showbackground": true,
            "ticks": "",
            "zerolinecolor": "#C8D4E3",
            "gridwidth": 2
           }
          },
          "shapedefaults": {
           "line": {
            "color": "#f2f5fa"
           }
          },
          "annotationdefaults": {
           "arrowcolor": "#f2f5fa",
           "arrowhead": 0,
           "arrowwidth": 1
          },
          "geo": {
           "bgcolor": "rgb(17,17,17)",
           "landcolor": "rgb(17,17,17)",
           "subunitcolor": "#506784",
           "showland": true,
           "showlakes": true,
           "lakecolor": "rgb(17,17,17)"
          },
          "title": {
           "x": 0.05
          },
          "updatemenudefaults": {
           "bgcolor": "#506784",
           "borderwidth": 0
          },
          "sliderdefaults": {
           "bgcolor": "#C8D4E3",
           "borderwidth": 1,
           "bordercolor": "rgb(17,17,17)",
           "tickwidth": 0
          },
          "mapbox": {
           "style": "dark"
          }
         }
        }
       },
       "config": {
        "plotlyServerURL": "https://plot.ly"
       }
      },
      "text/html": "<div>                            <div id=\"cdc6943f-c382-41fa-b463-50daaa8c5b33\" class=\"plotly-graph-div\" style=\"height:525px; width:100%;\"></div>            <script type=\"text/javascript\">                require([\"plotly\"], function(Plotly) {                    window.PLOTLYENV=window.PLOTLYENV || {};                                    if (document.getElementById(\"cdc6943f-c382-41fa-b463-50daaa8c5b33\")) {                    Plotly.newPlot(                        \"cdc6943f-c382-41fa-b463-50daaa8c5b33\",                        [{\"hovertemplate\":\"variable=history<br>index=%{x}<br>value=%{y}<extra></extra>\",\"legendgroup\":\"history\",\"line\":{\"color\":\"red\",\"dash\":\"solid\"},\"marker\":{\"symbol\":\"circle\"},\"mode\":\"lines\",\"name\":\"history\",\"orientation\":\"v\",\"showlegend\":true,\"x\":[0,1,2,3,4,5,6,7,8,9,10,11,12,13,14,15,16,17,18,19,20,21,22,23,24,25,26,27,28,29,30,31,32,33,34,35,36,37,38,39,40,41,42,43,44,45,46,47,48,49,50,51,52,53,54,55,56,57,58,59,60,61,62,63,64,65,66,67,68,69,70,71,72,73,74,75,76,77,78,79,80,81,82,83,84,85,86,87,88,89,90,91,92,93,94,95,96,97,98,99],\"xaxis\":\"x\",\"y\":[0.3012344539165497,0.24686956405639648,0.19762219488620758,0.15309055149555206,0.11412134021520615,0.08162689208984375,0.056265536695718765,0.038637675344944,0.029280290007591248,0.027800818905234337,0.03186165541410446,0.0378977507352829,0.04323247820138931,0.0461944080889225,0.04626794904470444,0.043834585696458817,0.039753030985593796,0.03499772772192955,0.03041958063840866,0.026622936129570007,0.023929551243782043,0.02240709587931633,0.021929532289505005,0.02225131168961525,0.023078085854649544,0.024122560396790504,0.025141965597867966,0.025957366451621056,0.026459520682692528,0.026605354622006416,0.0264076367020607,0.025920147076249123,0.025223970413208008,0.024415606632828712,0.02359473705291748,0.02285270392894745,0.022259915247559547,0.021858880296349525,0.021660035476088524,0.021642405539751053,0.0217592790722847,0.021948350593447685,0.022144444286823273,0.022292139008641243,0.02235531248152256,0.022321686148643494,0.022201627492904663,0.02202221006155014,0.021818703040480614,0.02162577211856842,0.021470515057444572,0.021368419751524925,0.02132248319685459,0.021324988454580307,0.021360965445637703,0.021412331610918045,0.02146170288324356,0.021495571359992027,0.02150588296353817,0.021490583196282387,0.021452974528074265,0.021400248631834984,0.021341534331440926,0.02128589153289795,0.021240584552288055,0.02120991051197052,0.021194763481616974,0.021192902699112892,0.021199865266680717,0.02121022529900074,0.02121887542307377,0.021222088485956192,0.021218106150627136,0.02120719477534294,0.02119123563170433,0.02117301896214485,0.021155431866645813,0.021140772849321365,0.021130317822098732,0.021124210208654404,0.021121611818671227,0.021121101453900337,0.021121056750416756,0.021120088174939156,0.02111729048192501,0.02111240290105343,0.02110571786761284,0.021097945049405098,0.021089963614940643,0.021082570776343346,0.021076342090964317,0.02107149176299572,0.02106790617108345,0.021065182983875275,0.021062800660729408,0.02106027491390705,0.02105727791786194,0.02105364017188549,0.02104943059384823,0.021044829860329628],\"yaxis\":\"y\",\"type\":\"scatter\"},{\"hovertemplate\":\"variable=history_valid<br>index=%{x}<br>value=%{y}<extra></extra>\",\"legendgroup\":\"history_valid\",\"line\":{\"color\":\"green\",\"dash\":\"solid\"},\"marker\":{\"symbol\":\"circle\"},\"mode\":\"lines\",\"name\":\"history_valid\",\"orientation\":\"v\",\"showlegend\":true,\"x\":[0,1,2,3,4,5,6,7,8,9,10,11,12,13,14,15,16,17,18,19,20,21,22,23,24,25,26,27,28,29,30,31,32,33,34,35,36,37,38,39,40,41,42,43,44,45,46,47,48,49,50,51,52,53,54,55,56,57,58,59,60,61,62,63,64,65,66,67,68,69,70,71,72,73,74,75,76,77,78,79,80,81,82,83,84,85,86,87,88,89,90,91,92,93,94,95,96,97,98,99],\"xaxis\":\"x\",\"y\":[0.24888089299201965,0.2001139372587204,0.15601490437984467,0.11739137023687363,0.0851300060749054,0.0599072091281414,0.04227566346526146,0.03275912255048752,0.030954396352171898,0.03465551510453224,0.04037648066878319,0.04545030742883682,0.04822099208831787,0.048185303807258606,0.04572119563817978,0.04166467487812042,0.036966972053050995,0.032458141446113586,0.028726870194077492,0.026086172088980675,0.024599682539701462,0.02414151094853878,0.024468902498483658,0.025291360914707184,0.026325637474656105,0.0273324865847826,0.02813577651977539,0.0286282766610384,0.028766987845301628,0.028564946725964546,0.02807554230093956,0.027379008010029793,0.026571124792099,0.025750819593667984,0.025008367374539375,0.024413762614130974,0.024009503424167633,0.023806478828191757,0.023784572258591652,0.02389822155237198,0.024086343124508858,0.024284852668642998,0.024439023807644844,0.024512937292456627,0.024493958801031113,0.024391598999500275,0.024231746792793274,0.024048341438174248,0.023874768987298012,0.023737052455544472,0.02364988811314106,0.023615799844264984,0.023626895621418953,0.023668276146054268,0.023722056299448013,0.02377120405435562,0.02380247600376606,0.02380811981856823,0.02378636971116066,0.023740757256746292,0.02367870695888996,0.02360955812036991,0.023542620241642,0.023485427722334862,0.023442592471837997,0.023415355011820793,0.023401841521263123,0.023397935554385185,0.023398512974381447,0.02339869737625122,0.02339489758014679,0.023385390639305115,0.02337038144469261,0.023351619020104408,0.02333168126642704,0.023313235491514206,0.023298336192965508,0.023288046941161156,0.023282313719391823,0.023280156776309013,0.02328001707792282,0.023280182853341103,0.023279210552573204,0.023276152089238167,0.02327072061598301,0.02326320670545101,0.02325432375073433,0.023244967684149742,0.0232359878718853,0.023227982223033905,0.023221207782626152,0.023215586319565773,0.023210769519209862,0.023206278681755066,0.023201625794172287,0.023196469992399216,0.02319067344069481,0.023184282705187798,0.023177487775683403,0.02317054383456707],\"yaxis\":\"y\",\"type\":\"scatter\"}],                        {\"template\":{\"data\":{\"histogram2dcontour\":[{\"type\":\"histogram2dcontour\",\"colorbar\":{\"outlinewidth\":0,\"ticks\":\"\"},\"colorscale\":[[0.0,\"#0d0887\"],[0.1111111111111111,\"#46039f\"],[0.2222222222222222,\"#7201a8\"],[0.3333333333333333,\"#9c179e\"],[0.4444444444444444,\"#bd3786\"],[0.5555555555555556,\"#d8576b\"],[0.6666666666666666,\"#ed7953\"],[0.7777777777777778,\"#fb9f3a\"],[0.8888888888888888,\"#fdca26\"],[1.0,\"#f0f921\"]]}],\"choropleth\":[{\"type\":\"choropleth\",\"colorbar\":{\"outlinewidth\":0,\"ticks\":\"\"}}],\"histogram2d\":[{\"type\":\"histogram2d\",\"colorbar\":{\"outlinewidth\":0,\"ticks\":\"\"},\"colorscale\":[[0.0,\"#0d0887\"],[0.1111111111111111,\"#46039f\"],[0.2222222222222222,\"#7201a8\"],[0.3333333333333333,\"#9c179e\"],[0.4444444444444444,\"#bd3786\"],[0.5555555555555556,\"#d8576b\"],[0.6666666666666666,\"#ed7953\"],[0.7777777777777778,\"#fb9f3a\"],[0.8888888888888888,\"#fdca26\"],[1.0,\"#f0f921\"]]}],\"heatmap\":[{\"type\":\"heatmap\",\"colorbar\":{\"outlinewidth\":0,\"ticks\":\"\"},\"colorscale\":[[0.0,\"#0d0887\"],[0.1111111111111111,\"#46039f\"],[0.2222222222222222,\"#7201a8\"],[0.3333333333333333,\"#9c179e\"],[0.4444444444444444,\"#bd3786\"],[0.5555555555555556,\"#d8576b\"],[0.6666666666666666,\"#ed7953\"],[0.7777777777777778,\"#fb9f3a\"],[0.8888888888888888,\"#fdca26\"],[1.0,\"#f0f921\"]]}],\"heatmapgl\":[{\"type\":\"heatmapgl\",\"colorbar\":{\"outlinewidth\":0,\"ticks\":\"\"},\"colorscale\":[[0.0,\"#0d0887\"],[0.1111111111111111,\"#46039f\"],[0.2222222222222222,\"#7201a8\"],[0.3333333333333333,\"#9c179e\"],[0.4444444444444444,\"#bd3786\"],[0.5555555555555556,\"#d8576b\"],[0.6666666666666666,\"#ed7953\"],[0.7777777777777778,\"#fb9f3a\"],[0.8888888888888888,\"#fdca26\"],[1.0,\"#f0f921\"]]}],\"contourcarpet\":[{\"type\":\"contourcarpet\",\"colorbar\":{\"outlinewidth\":0,\"ticks\":\"\"}}],\"contour\":[{\"type\":\"contour\",\"colorbar\":{\"outlinewidth\":0,\"ticks\":\"\"},\"colorscale\":[[0.0,\"#0d0887\"],[0.1111111111111111,\"#46039f\"],[0.2222222222222222,\"#7201a8\"],[0.3333333333333333,\"#9c179e\"],[0.4444444444444444,\"#bd3786\"],[0.5555555555555556,\"#d8576b\"],[0.6666666666666666,\"#ed7953\"],[0.7777777777777778,\"#fb9f3a\"],[0.8888888888888888,\"#fdca26\"],[1.0,\"#f0f921\"]]}],\"surface\":[{\"type\":\"surface\",\"colorbar\":{\"outlinewidth\":0,\"ticks\":\"\"},\"colorscale\":[[0.0,\"#0d0887\"],[0.1111111111111111,\"#46039f\"],[0.2222222222222222,\"#7201a8\"],[0.3333333333333333,\"#9c179e\"],[0.4444444444444444,\"#bd3786\"],[0.5555555555555556,\"#d8576b\"],[0.6666666666666666,\"#ed7953\"],[0.7777777777777778,\"#fb9f3a\"],[0.8888888888888888,\"#fdca26\"],[1.0,\"#f0f921\"]]}],\"mesh3d\":[{\"type\":\"mesh3d\",\"colorbar\":{\"outlinewidth\":0,\"ticks\":\"\"}}],\"scatter\":[{\"marker\":{\"line\":{\"color\":\"#283442\"}},\"type\":\"scatter\"}],\"parcoords\":[{\"type\":\"parcoords\",\"line\":{\"colorbar\":{\"outlinewidth\":0,\"ticks\":\"\"}}}],\"scatterpolargl\":[{\"type\":\"scatterpolargl\",\"marker\":{\"colorbar\":{\"outlinewidth\":0,\"ticks\":\"\"}}}],\"bar\":[{\"error_x\":{\"color\":\"#f2f5fa\"},\"error_y\":{\"color\":\"#f2f5fa\"},\"marker\":{\"line\":{\"color\":\"rgb(17,17,17)\",\"width\":0.5},\"pattern\":{\"fillmode\":\"overlay\",\"size\":10,\"solidity\":0.2}},\"type\":\"bar\"}],\"scattergeo\":[{\"type\":\"scattergeo\",\"marker\":{\"colorbar\":{\"outlinewidth\":0,\"ticks\":\"\"}}}],\"scatterpolar\":[{\"type\":\"scatterpolar\",\"marker\":{\"colorbar\":{\"outlinewidth\":0,\"ticks\":\"\"}}}],\"histogram\":[{\"marker\":{\"pattern\":{\"fillmode\":\"overlay\",\"size\":10,\"solidity\":0.2}},\"type\":\"histogram\"}],\"scattergl\":[{\"marker\":{\"line\":{\"color\":\"#283442\"}},\"type\":\"scattergl\"}],\"scatter3d\":[{\"type\":\"scatter3d\",\"line\":{\"colorbar\":{\"outlinewidth\":0,\"ticks\":\"\"}},\"marker\":{\"colorbar\":{\"outlinewidth\":0,\"ticks\":\"\"}}}],\"scattermapbox\":[{\"type\":\"scattermapbox\",\"marker\":{\"colorbar\":{\"outlinewidth\":0,\"ticks\":\"\"}}}],\"scatterternary\":[{\"type\":\"scatterternary\",\"marker\":{\"colorbar\":{\"outlinewidth\":0,\"ticks\":\"\"}}}],\"scattercarpet\":[{\"type\":\"scattercarpet\",\"marker\":{\"colorbar\":{\"outlinewidth\":0,\"ticks\":\"\"}}}],\"carpet\":[{\"aaxis\":{\"endlinecolor\":\"#A2B1C6\",\"gridcolor\":\"#506784\",\"linecolor\":\"#506784\",\"minorgridcolor\":\"#506784\",\"startlinecolor\":\"#A2B1C6\"},\"baxis\":{\"endlinecolor\":\"#A2B1C6\",\"gridcolor\":\"#506784\",\"linecolor\":\"#506784\",\"minorgridcolor\":\"#506784\",\"startlinecolor\":\"#A2B1C6\"},\"type\":\"carpet\"}],\"table\":[{\"cells\":{\"fill\":{\"color\":\"#506784\"},\"line\":{\"color\":\"rgb(17,17,17)\"}},\"header\":{\"fill\":{\"color\":\"#2a3f5f\"},\"line\":{\"color\":\"rgb(17,17,17)\"}},\"type\":\"table\"}],\"barpolar\":[{\"marker\":{\"line\":{\"color\":\"rgb(17,17,17)\",\"width\":0.5},\"pattern\":{\"fillmode\":\"overlay\",\"size\":10,\"solidity\":0.2}},\"type\":\"barpolar\"}],\"pie\":[{\"automargin\":true,\"type\":\"pie\"}]},\"layout\":{\"autotypenumbers\":\"strict\",\"colorway\":[\"#636efa\",\"#EF553B\",\"#00cc96\",\"#ab63fa\",\"#FFA15A\",\"#19d3f3\",\"#FF6692\",\"#B6E880\",\"#FF97FF\",\"#FECB52\"],\"font\":{\"color\":\"#f2f5fa\"},\"hovermode\":\"closest\",\"hoverlabel\":{\"align\":\"left\"},\"paper_bgcolor\":\"rgb(17,17,17)\",\"plot_bgcolor\":\"rgb(17,17,17)\",\"polar\":{\"bgcolor\":\"rgb(17,17,17)\",\"angularaxis\":{\"gridcolor\":\"#506784\",\"linecolor\":\"#506784\",\"ticks\":\"\"},\"radialaxis\":{\"gridcolor\":\"#506784\",\"linecolor\":\"#506784\",\"ticks\":\"\"}},\"ternary\":{\"bgcolor\":\"rgb(17,17,17)\",\"aaxis\":{\"gridcolor\":\"#506784\",\"linecolor\":\"#506784\",\"ticks\":\"\"},\"baxis\":{\"gridcolor\":\"#506784\",\"linecolor\":\"#506784\",\"ticks\":\"\"},\"caxis\":{\"gridcolor\":\"#506784\",\"linecolor\":\"#506784\",\"ticks\":\"\"}},\"coloraxis\":{\"colorbar\":{\"outlinewidth\":0,\"ticks\":\"\"}},\"colorscale\":{\"sequential\":[[0.0,\"#0d0887\"],[0.1111111111111111,\"#46039f\"],[0.2222222222222222,\"#7201a8\"],[0.3333333333333333,\"#9c179e\"],[0.4444444444444444,\"#bd3786\"],[0.5555555555555556,\"#d8576b\"],[0.6666666666666666,\"#ed7953\"],[0.7777777777777778,\"#fb9f3a\"],[0.8888888888888888,\"#fdca26\"],[1.0,\"#f0f921\"]],\"sequentialminus\":[[0.0,\"#0d0887\"],[0.1111111111111111,\"#46039f\"],[0.2222222222222222,\"#7201a8\"],[0.3333333333333333,\"#9c179e\"],[0.4444444444444444,\"#bd3786\"],[0.5555555555555556,\"#d8576b\"],[0.6666666666666666,\"#ed7953\"],[0.7777777777777778,\"#fb9f3a\"],[0.8888888888888888,\"#fdca26\"],[1.0,\"#f0f921\"]],\"diverging\":[[0,\"#8e0152\"],[0.1,\"#c51b7d\"],[0.2,\"#de77ae\"],[0.3,\"#f1b6da\"],[0.4,\"#fde0ef\"],[0.5,\"#f7f7f7\"],[0.6,\"#e6f5d0\"],[0.7,\"#b8e186\"],[0.8,\"#7fbc41\"],[0.9,\"#4d9221\"],[1,\"#276419\"]]},\"xaxis\":{\"gridcolor\":\"#283442\",\"linecolor\":\"#506784\",\"ticks\":\"\",\"title\":{\"standoff\":15},\"zerolinecolor\":\"#283442\",\"automargin\":true,\"zerolinewidth\":2},\"yaxis\":{\"gridcolor\":\"#283442\",\"linecolor\":\"#506784\",\"ticks\":\"\",\"title\":{\"standoff\":15},\"zerolinecolor\":\"#283442\",\"automargin\":true,\"zerolinewidth\":2},\"scene\":{\"xaxis\":{\"backgroundcolor\":\"rgb(17,17,17)\",\"gridcolor\":\"#506784\",\"linecolor\":\"#506784\",\"showbackground\":true,\"ticks\":\"\",\"zerolinecolor\":\"#C8D4E3\",\"gridwidth\":2},\"yaxis\":{\"backgroundcolor\":\"rgb(17,17,17)\",\"gridcolor\":\"#506784\",\"linecolor\":\"#506784\",\"showbackground\":true,\"ticks\":\"\",\"zerolinecolor\":\"#C8D4E3\",\"gridwidth\":2},\"zaxis\":{\"backgroundcolor\":\"rgb(17,17,17)\",\"gridcolor\":\"#506784\",\"linecolor\":\"#506784\",\"showbackground\":true,\"ticks\":\"\",\"zerolinecolor\":\"#C8D4E3\",\"gridwidth\":2}},\"shapedefaults\":{\"line\":{\"color\":\"#f2f5fa\"}},\"annotationdefaults\":{\"arrowcolor\":\"#f2f5fa\",\"arrowhead\":0,\"arrowwidth\":1},\"geo\":{\"bgcolor\":\"rgb(17,17,17)\",\"landcolor\":\"rgb(17,17,17)\",\"subunitcolor\":\"#506784\",\"showland\":true,\"showlakes\":true,\"lakecolor\":\"rgb(17,17,17)\"},\"title\":{\"x\":0.05},\"updatemenudefaults\":{\"bgcolor\":\"#506784\",\"borderwidth\":0},\"sliderdefaults\":{\"bgcolor\":\"#C8D4E3\",\"borderwidth\":1,\"bordercolor\":\"rgb(17,17,17)\",\"tickwidth\":0},\"mapbox\":{\"style\":\"dark\"}}}},                        {\"responsive\": true}                    ).then(function(){\n                            \nvar gd = document.getElementById('cdc6943f-c382-41fa-b463-50daaa8c5b33');\nvar x = new MutationObserver(function (mutations, observer) {{\n        var display = window.getComputedStyle(gd).display;\n        if (!display || display === 'none') {{\n            console.log([gd, 'removed!']);\n            Plotly.purge(gd);\n            observer.disconnect();\n        }}\n}});\n\n// Listen for the removal of the full notebook cells\nvar notebookContainer = gd.closest('#notebook-container');\nif (notebookContainer) {{\n    x.observe(notebookContainer, {childList: true});\n}}\n\n// Listen for the clearing of the current output cell\nvar outputEl = gd.closest('.output');\nif (outputEl) {{\n    x.observe(outputEl, {childList: true});\n}}\n\n                        })                };                });            </script>        </div>"
     },
     "metadata": {},
     "output_type": "display_data"
    }
   ],
   "source": [
    "history = pd.DataFrame({'history': history})\n",
    "history_valid = pd.DataFrame({'history_valid': history_valid})\n",
    "fig1 = px.line(history, color_discrete_sequence=[\"red\"])\n",
    "fig2 = px.line(history_valid, color_discrete_sequence=[\"green\"])\n",
    "fig = go.Figure(data = fig1.data + fig2.data)\n",
    "fig.show()\n"
   ],
   "metadata": {
    "collapsed": false
   }
  },
  {
   "cell_type": "code",
   "execution_count": 255,
   "outputs": [
    {
     "data": {
      "text/plain": "0    0.027775\ndtype: float32"
     },
     "execution_count": 255,
     "metadata": {},
     "output_type": "execute_result"
    }
   ],
   "source": [
    "y_valid, loss = predict(net, X_test, Y_test)\n",
    "Loss = find_loss(net, X_test, Y_test)\n",
    "Loss = pd.DataFrame(Loss)\n",
    "Loss.mean()"
   ],
   "metadata": {
    "collapsed": false
   }
  },
  {
   "cell_type": "code",
   "execution_count": 256,
   "outputs": [],
   "source": [
    "df_X_test = pd.DataFrame(X_test.detach())\n",
    "df_y_valid = pd.DataFrame(y_valid.detach())"
   ],
   "metadata": {
    "collapsed": false
   }
  },
  {
   "cell_type": "code",
   "execution_count": 257,
   "outputs": [
    {
     "data": {
      "text/plain": "    М.ч. оксида цинка  М.ч. стеариновой кислоты  М.ч. бентонита  \\\n0                1.16                      0.96            1.64   \n1                1.16                      0.96            1.64   \n2                1.18                      1.18            1.65   \n3                1.18                      1.18            1.65   \n4                1.16                      0.96            1.64   \n..                ...                       ...             ...   \n95               1.18                      1.18            1.64   \n96               1.32                      0.96            1.72   \n97               1.20                      1.00            1.60   \n98               1.18                      1.18            1.64   \n99               1.18                      1.18            1.64   \n\n    М.ч. жирных кислот  Температура смешения, оС  М300, Мпа  Fразрыв, МПа  \\\n0                 0.24                      85.0  11.801842     21.909203   \n1                 0.24                      85.0  11.801842     21.909203   \n2                 0.00                     120.0  11.933372     21.996538   \n3                 0.00                     120.0  11.933372     21.996538   \n4                 0.24                      85.0  11.801842     21.909203   \n..                 ...                       ...        ...           ...   \n95                0.00                     120.0  11.928761     21.993475   \n96                0.00                     110.0  12.034691     22.063812   \n97                0.20                      90.0  11.842124     21.935949   \n98                0.00                     120.0  11.928761     21.993475   \n99                0.00                     120.0  11.928761     21.993475   \n\n          Е, %  \n0   490.427917  \n1   490.427917  \n2   494.775970  \n3   494.775970  \n4   490.427917  \n..         ...  \n95  494.623566  \n96  498.125336  \n97  491.759552  \n98  494.623566  \n99  494.623566  \n\n[100 rows x 8 columns]",
      "text/html": "<div>\n<style scoped>\n    .dataframe tbody tr th:only-of-type {\n        vertical-align: middle;\n    }\n\n    .dataframe tbody tr th {\n        vertical-align: top;\n    }\n\n    .dataframe thead th {\n        text-align: right;\n    }\n</style>\n<table border=\"1\" class=\"dataframe\">\n  <thead>\n    <tr style=\"text-align: right;\">\n      <th></th>\n      <th>М.ч. оксида цинка</th>\n      <th>М.ч. стеариновой кислоты</th>\n      <th>М.ч. бентонита</th>\n      <th>М.ч. жирных кислот</th>\n      <th>Температура смешения, оС</th>\n      <th>М300, Мпа</th>\n      <th>Fразрыв, МПа</th>\n      <th>Е, %</th>\n    </tr>\n  </thead>\n  <tbody>\n    <tr>\n      <th>0</th>\n      <td>1.16</td>\n      <td>0.96</td>\n      <td>1.64</td>\n      <td>0.24</td>\n      <td>85.0</td>\n      <td>11.801842</td>\n      <td>21.909203</td>\n      <td>490.427917</td>\n    </tr>\n    <tr>\n      <th>1</th>\n      <td>1.16</td>\n      <td>0.96</td>\n      <td>1.64</td>\n      <td>0.24</td>\n      <td>85.0</td>\n      <td>11.801842</td>\n      <td>21.909203</td>\n      <td>490.427917</td>\n    </tr>\n    <tr>\n      <th>2</th>\n      <td>1.18</td>\n      <td>1.18</td>\n      <td>1.65</td>\n      <td>0.00</td>\n      <td>120.0</td>\n      <td>11.933372</td>\n      <td>21.996538</td>\n      <td>494.775970</td>\n    </tr>\n    <tr>\n      <th>3</th>\n      <td>1.18</td>\n      <td>1.18</td>\n      <td>1.65</td>\n      <td>0.00</td>\n      <td>120.0</td>\n      <td>11.933372</td>\n      <td>21.996538</td>\n      <td>494.775970</td>\n    </tr>\n    <tr>\n      <th>4</th>\n      <td>1.16</td>\n      <td>0.96</td>\n      <td>1.64</td>\n      <td>0.24</td>\n      <td>85.0</td>\n      <td>11.801842</td>\n      <td>21.909203</td>\n      <td>490.427917</td>\n    </tr>\n    <tr>\n      <th>...</th>\n      <td>...</td>\n      <td>...</td>\n      <td>...</td>\n      <td>...</td>\n      <td>...</td>\n      <td>...</td>\n      <td>...</td>\n      <td>...</td>\n    </tr>\n    <tr>\n      <th>95</th>\n      <td>1.18</td>\n      <td>1.18</td>\n      <td>1.64</td>\n      <td>0.00</td>\n      <td>120.0</td>\n      <td>11.928761</td>\n      <td>21.993475</td>\n      <td>494.623566</td>\n    </tr>\n    <tr>\n      <th>96</th>\n      <td>1.32</td>\n      <td>0.96</td>\n      <td>1.72</td>\n      <td>0.00</td>\n      <td>110.0</td>\n      <td>12.034691</td>\n      <td>22.063812</td>\n      <td>498.125336</td>\n    </tr>\n    <tr>\n      <th>97</th>\n      <td>1.20</td>\n      <td>1.00</td>\n      <td>1.60</td>\n      <td>0.20</td>\n      <td>90.0</td>\n      <td>11.842124</td>\n      <td>21.935949</td>\n      <td>491.759552</td>\n    </tr>\n    <tr>\n      <th>98</th>\n      <td>1.18</td>\n      <td>1.18</td>\n      <td>1.64</td>\n      <td>0.00</td>\n      <td>120.0</td>\n      <td>11.928761</td>\n      <td>21.993475</td>\n      <td>494.623566</td>\n    </tr>\n    <tr>\n      <th>99</th>\n      <td>1.18</td>\n      <td>1.18</td>\n      <td>1.64</td>\n      <td>0.00</td>\n      <td>120.0</td>\n      <td>11.928761</td>\n      <td>21.993475</td>\n      <td>494.623566</td>\n    </tr>\n  </tbody>\n</table>\n<p>100 rows × 8 columns</p>\n</div>"
     },
     "execution_count": 257,
     "metadata": {},
     "output_type": "execute_result"
    }
   ],
   "source": [
    "result = pd.concat([df_X_test, df_y_valid], axis=1)\n",
    "result = scaler.inverse_transform(result)\n",
    "result = pd.DataFrame(result)\n",
    "result.columns = ['М.ч. оксида цинка', 'М.ч. стеариновой кислоты', 'М.ч. бентонита', 'М.ч. жирных кислот', 'Температура смешения, оС', 'М300, Мпа', 'Fразрыв, МПа', 'Е, %']\n",
    "result.to_excel('predict.xlsx')\n",
    "predict_result = result\n",
    "predict_result"
   ],
   "metadata": {
    "collapsed": false
   }
  },
  {
   "cell_type": "code",
   "execution_count": 258,
   "outputs": [
    {
     "data": {
      "text/plain": "    М.ч. оксида цинка  М.ч. стеариновой кислоты  М.ч. бентонита  \\\n0                1.16                      0.96            1.64   \n1                1.16                      0.96            1.64   \n2                1.18                      1.18            1.65   \n3                1.18                      1.18            1.65   \n4                1.16                      0.96            1.64   \n..                ...                       ...             ...   \n95               1.18                      1.18            1.64   \n96               1.32                      0.96            1.72   \n97               1.20                      1.00            1.60   \n98               1.18                      1.18            1.64   \n99               1.18                      1.18            1.64   \n\n    М.ч. жирных кислот  Температура смешения, оС  М300, Мпа  Fразрыв, МПа  \\\n0                 0.24                      85.0  14.700000     23.100000   \n1                 0.24                      85.0  11.400001     20.900000   \n2                 0.00                     120.0  12.200000     20.700001   \n3                 0.00                     120.0  12.100000     21.599998   \n4                 0.24                      85.0  13.500000     22.800001   \n..                 ...                       ...        ...           ...   \n95                0.00                     120.0  14.700000     22.300001   \n96                0.00                     110.0  13.060000     21.809999   \n97                0.20                      90.0  11.200000     23.699999   \n98                0.00                     120.0  12.500000     21.400000   \n99                0.00                     120.0   7.400000     23.299999   \n\n          Е, %  \n0   476.999969  \n1   483.000000  \n2   450.000031  \n3   490.000031  \n4   460.000000  \n..         ...  \n95  467.000000  \n96  470.000000  \n97  493.000031  \n98  447.000000  \n99  680.000000  \n\n[100 rows x 8 columns]",
      "text/html": "<div>\n<style scoped>\n    .dataframe tbody tr th:only-of-type {\n        vertical-align: middle;\n    }\n\n    .dataframe tbody tr th {\n        vertical-align: top;\n    }\n\n    .dataframe thead th {\n        text-align: right;\n    }\n</style>\n<table border=\"1\" class=\"dataframe\">\n  <thead>\n    <tr style=\"text-align: right;\">\n      <th></th>\n      <th>М.ч. оксида цинка</th>\n      <th>М.ч. стеариновой кислоты</th>\n      <th>М.ч. бентонита</th>\n      <th>М.ч. жирных кислот</th>\n      <th>Температура смешения, оС</th>\n      <th>М300, Мпа</th>\n      <th>Fразрыв, МПа</th>\n      <th>Е, %</th>\n    </tr>\n  </thead>\n  <tbody>\n    <tr>\n      <th>0</th>\n      <td>1.16</td>\n      <td>0.96</td>\n      <td>1.64</td>\n      <td>0.24</td>\n      <td>85.0</td>\n      <td>14.700000</td>\n      <td>23.100000</td>\n      <td>476.999969</td>\n    </tr>\n    <tr>\n      <th>1</th>\n      <td>1.16</td>\n      <td>0.96</td>\n      <td>1.64</td>\n      <td>0.24</td>\n      <td>85.0</td>\n      <td>11.400001</td>\n      <td>20.900000</td>\n      <td>483.000000</td>\n    </tr>\n    <tr>\n      <th>2</th>\n      <td>1.18</td>\n      <td>1.18</td>\n      <td>1.65</td>\n      <td>0.00</td>\n      <td>120.0</td>\n      <td>12.200000</td>\n      <td>20.700001</td>\n      <td>450.000031</td>\n    </tr>\n    <tr>\n      <th>3</th>\n      <td>1.18</td>\n      <td>1.18</td>\n      <td>1.65</td>\n      <td>0.00</td>\n      <td>120.0</td>\n      <td>12.100000</td>\n      <td>21.599998</td>\n      <td>490.000031</td>\n    </tr>\n    <tr>\n      <th>4</th>\n      <td>1.16</td>\n      <td>0.96</td>\n      <td>1.64</td>\n      <td>0.24</td>\n      <td>85.0</td>\n      <td>13.500000</td>\n      <td>22.800001</td>\n      <td>460.000000</td>\n    </tr>\n    <tr>\n      <th>...</th>\n      <td>...</td>\n      <td>...</td>\n      <td>...</td>\n      <td>...</td>\n      <td>...</td>\n      <td>...</td>\n      <td>...</td>\n      <td>...</td>\n    </tr>\n    <tr>\n      <th>95</th>\n      <td>1.18</td>\n      <td>1.18</td>\n      <td>1.64</td>\n      <td>0.00</td>\n      <td>120.0</td>\n      <td>14.700000</td>\n      <td>22.300001</td>\n      <td>467.000000</td>\n    </tr>\n    <tr>\n      <th>96</th>\n      <td>1.32</td>\n      <td>0.96</td>\n      <td>1.72</td>\n      <td>0.00</td>\n      <td>110.0</td>\n      <td>13.060000</td>\n      <td>21.809999</td>\n      <td>470.000000</td>\n    </tr>\n    <tr>\n      <th>97</th>\n      <td>1.20</td>\n      <td>1.00</td>\n      <td>1.60</td>\n      <td>0.20</td>\n      <td>90.0</td>\n      <td>11.200000</td>\n      <td>23.699999</td>\n      <td>493.000031</td>\n    </tr>\n    <tr>\n      <th>98</th>\n      <td>1.18</td>\n      <td>1.18</td>\n      <td>1.64</td>\n      <td>0.00</td>\n      <td>120.0</td>\n      <td>12.500000</td>\n      <td>21.400000</td>\n      <td>447.000000</td>\n    </tr>\n    <tr>\n      <th>99</th>\n      <td>1.18</td>\n      <td>1.18</td>\n      <td>1.64</td>\n      <td>0.00</td>\n      <td>120.0</td>\n      <td>7.400000</td>\n      <td>23.299999</td>\n      <td>680.000000</td>\n    </tr>\n  </tbody>\n</table>\n<p>100 rows × 8 columns</p>\n</div>"
     },
     "execution_count": 258,
     "metadata": {},
     "output_type": "execute_result"
    }
   ],
   "source": [
    "df_y_test = pd.DataFrame(Y_test.detach())\n",
    "result = pd.concat([df_X_test, df_y_test], axis=1)\n",
    "result = scaler.inverse_transform(result)\n",
    "result = pd.DataFrame(result)\n",
    "result.columns = ['М.ч. оксида цинка', 'М.ч. стеариновой кислоты', 'М.ч. бентонита', 'М.ч. жирных кислот', 'Температура смешения, оС', 'М300, Мпа', 'Fразрыв, МПа', 'Е, %']\n",
    "result.to_excel('fact.xlsx')\n",
    "fact_result = result\n",
    "fact_result"
   ],
   "metadata": {
    "collapsed": false
   }
  },
  {
   "cell_type": "code",
   "execution_count": 259,
   "outputs": [
    {
     "data": {
      "text/plain": "tensor(0.0232, grad_fn=<MseLossBackward0>)"
     },
     "execution_count": 259,
     "metadata": {},
     "output_type": "execute_result"
    }
   ],
   "source": [
    "fact_result.insert(6, \"М300, Мпа (Предсказанное)\", predict_result['М300, Мпа'])\n",
    "fact_result.insert(8, \"Fразрыв, МПа (Предсказанное)\", predict_result['Fразрыв, МПа'])\n",
    "fact_result.insert(10, \"Е, % (Предсказанное)\", predict_result['Е, %'])\n",
    "fact_result.insert(11, \"MSELoss, (считалась для нормализованных данных)\", Loss)\n",
    "fact_result.insert(12, \"MSELoss\", loss)\n",
    "loss"
   ],
   "metadata": {
    "collapsed": false
   }
  },
  {
   "cell_type": "code",
   "execution_count": 260,
   "outputs": [],
   "source": [
    "plt.rcParams ['figure.figsize'] = [12, 9]"
   ],
   "metadata": {
    "collapsed": false
   }
  },
  {
   "cell_type": "code",
   "execution_count": 261,
   "outputs": [
    {
     "data": {
      "text/plain": "<matplotlib.collections.PathCollection at 0x21121af4130>"
     },
     "execution_count": 261,
     "metadata": {},
     "output_type": "execute_result"
    },
    {
     "data": {
      "text/plain": "<Figure size 1200x900 with 4 Axes>",
      "image/png": "[encoded data removed]"
     },
     "metadata": {},
     "output_type": "display_data"
    }
   ],
   "source": [
    "fig, axs = plt.subplots(2, 2)\n",
    "plt.suptitle('Фактические и прогнозируемые выходные данные в зависимости от М. ч. оксида цинка')\n",
    "axs[0, 0].set_title('М300')\n",
    "axs[0, 0].scatter(fact_result['М.ч. оксида цинка'], fact_result['М300, Мпа'])\n",
    "axs[0, 0].scatter(fact_result['М.ч. оксида цинка'], predict_result['М300, Мпа'])\n",
    "axs[0, 1].set_title('Fразрыв, МПa')\n",
    "axs[0, 1].scatter(fact_result['М.ч. оксида цинка'], fact_result['Fразрыв, МПа'])\n",
    "axs[0, 1].scatter(fact_result['М.ч. оксида цинка'], predict_result['Fразрыв, МПа'])\n",
    "axs[1, 0].set_title('Е, %')\n",
    "axs[1, 0].scatter(fact_result['М.ч. оксида цинка'], fact_result['Е, %'])\n",
    "axs[1, 0].scatter(fact_result['М.ч. оксида цинка'], predict_result['Е, %'])"
   ],
   "metadata": {
    "collapsed": false
   }
  },
  {
   "cell_type": "code",
   "execution_count": 262,
   "outputs": [
    {
     "data": {
      "text/plain": "<matplotlib.collections.PathCollection at 0x21121c8ffa0>"
     },
     "execution_count": 262,
     "metadata": {},
     "output_type": "execute_result"
    },
    {
     "data": {
      "text/plain": "<Figure size 1200x900 with 4 Axes>",
      "image/png": "[encoded data removed]"
     },
     "metadata": {},
     "output_type": "display_data"
    }
   ],
   "source": [
    "fig, axs = plt.subplots(2, 2)\n",
    "plt.suptitle('Фактические и прогнозируемые выходные данные в зависимости от М. ч. стеариновой кислоты')\n",
    "axs[0, 0].set_title('М300')\n",
    "axs[0, 0].scatter(fact_result['М.ч. стеариновой кислоты'], fact_result['М300, Мпа'])\n",
    "axs[0, 0].scatter(fact_result['М.ч. стеариновой кислоты'], predict_result['М300, Мпа'])\n",
    "axs[0, 1].set_title('Fразрыв, МПa')\n",
    "axs[0, 1].scatter(fact_result['М.ч. стеариновой кислоты'], fact_result['Fразрыв, МПа'])\n",
    "axs[0, 1].scatter(fact_result['М.ч. стеариновой кислоты'], predict_result['Fразрыв, МПа'])\n",
    "axs[1, 0].set_title('Е, %')\n",
    "axs[1, 0].scatter(fact_result['М.ч. стеариновой кислоты'], fact_result['Е, %'])\n",
    "axs[1, 0].scatter(fact_result['М.ч. стеариновой кислоты'], predict_result['Е, %'])"
   ],
   "metadata": {
    "collapsed": false
   }
  },
  {
   "cell_type": "code",
   "execution_count": 263,
   "outputs": [
    {
     "data": {
      "text/plain": "<matplotlib.collections.PathCollection at 0x211224f75b0>"
     },
     "execution_count": 263,
     "metadata": {},
     "output_type": "execute_result"
    },
    {
     "data": {
      "text/plain": "<Figure size 1200x900 with 4 Axes>",
      "image/png": "[encoded data removed]"
     },
     "metadata": {},
     "output_type": "display_data"
    }
   ],
   "source": [
    "\n",
    "fig, axs = plt.subplots(2, 2)\n",
    "plt.suptitle('Фактические и прогнозируемые выходные данные в зависимости от М. ч. бентонита')\n",
    "axs[0, 0].set_title('М300')\n",
    "axs[0, 0].scatter(fact_result['М.ч. бентонита'], fact_result['М300, Мпа'])\n",
    "axs[0, 0].scatter(fact_result['М.ч. бентонита'], predict_result['М300, Мпа'])\n",
    "axs[0, 1].set_title('Fразрыв, МПa')\n",
    "axs[0, 1].scatter(fact_result['М.ч. бентонита'], fact_result['Fразрыв, МПа'])\n",
    "axs[0, 1].scatter(fact_result['М.ч. бентонита'], predict_result['Fразрыв, МПа'])\n",
    "axs[1, 0].set_title('Е, %')\n",
    "axs[1, 0].scatter(fact_result['М.ч. бентонита'], fact_result['Е, %'])\n",
    "axs[1, 0].scatter(fact_result['М.ч. бентонита'], predict_result['Е, %'])"
   ],
   "metadata": {
    "collapsed": false
   }
  },
  {
   "cell_type": "code",
   "execution_count": 263,
   "outputs": [],
   "source": [],
   "metadata": {
    "collapsed": false
   }
  }
 ],
 "metadata": {
  "kernelspec": {
   "display_name": "Python 3",
   "language": "python",
   "name": "python3"
  },
  "language_info": {
   "codemirror_mode": {
    "name": "ipython",
    "version": 2
   },
   "file_extension": ".py",
   "mimetype": "text/x-python",
   "name": "python",
   "nbconvert_exporter": "python",
   "pygments_lexer": "ipython2",
   "version": "2.7.6"
  }
 },
 "nbformat": 4,
 "nbformat_minor": 0
}
